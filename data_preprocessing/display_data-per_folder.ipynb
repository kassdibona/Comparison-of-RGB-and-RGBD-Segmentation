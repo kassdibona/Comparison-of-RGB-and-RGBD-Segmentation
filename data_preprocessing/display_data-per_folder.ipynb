{
 "cells": [
  {
   "cell_type": "markdown",
   "id": "1d924538",
   "metadata": {},
   "source": [
    "## View the obtained images"
   ]
  },
  {
   "cell_type": "markdown",
   "id": "00fde536",
   "metadata": {},
   "source": [
    "The following subscript is used to view the images saved from a .svo file."
   ]
  },
  {
   "cell_type": "code",
   "execution_count": null,
   "id": "0e4ea11e",
   "metadata": {},
   "outputs": [],
   "source": [
    "import matplotlib.pyplot as plt\n",
    "import matplotlib.image as mpimg\n",
    "import numpy as np\n",
    "import random as rand"
   ]
  },
  {
   "cell_type": "code",
   "execution_count": null,
   "id": "691e6bba",
   "metadata": {},
   "outputs": [],
   "source": [
    "def factors(n):\n",
    "    min_fact, max_fact = 1, n\n",
    "    for i in range(2, n):\n",
    "        if (n%i) == 0:\n",
    "            if (n//i == i): # for square numbers\n",
    "                return i, i\n",
    "            if (n//i == max_fact): # new min_fact is old max_fact\n",
    "                return min_fact, max_fact\n",
    "            min_fact, max_fact = i, n//i\n",
    "    return min_fact, max_fact"
   ]
  },
  {
   "cell_type": "code",
   "execution_count": null,
   "id": "ba16bff6",
   "metadata": {},
   "outputs": [],
   "source": [
    "default_titles = ['Input Image', 'Input Depth', 'Measured Depth Values', 'True Mask', 'Predicted Mask']\n",
    "\n",
    "def displayImages(display_list, title=default_titles):\n",
    "    plt.figure(figsize=(25, 25))\n",
    "    len_display_list = len(display_list)\n",
    "    #print(len_display_list)\n",
    "    \n",
    "    row, col = factors(len_display_list)\n",
    "\n",
    "    for r in range(row):\n",
    "        for c in range(col):\n",
    "            ##i = (col*r+c)\n",
    "            ##print(type(display_list[i]))\n",
    "            ##print(f\"display - INFO: display_list[{i}].shape = {display_list[i].shape}\")\n",
    "            plt.subplot(row, col, (col*r+c)+1)\n",
    "            plt.title(title[(col*r+c)])\n",
    "            plt.imshow(display_list[(col*r+c)])\n",
    "            plt.axis('off')\n",
    "    plt.show()"
   ]
  },
  {
   "cell_type": "code",
   "execution_count": null,
   "id": "a235ab14",
   "metadata": {},
   "outputs": [],
   "source": [
    "def obtainImageAndDepths(image_path):\n",
    "    image = mpimg.imread(image_path)\n",
    "    depth = mpimg.imread(image_path.replace('left', 'depth'))\n",
    "    #depth_val = mpimg.imread(image_path.replace('left', 'measuredDepth'))\n",
    "    #print(np.min(depth), np.max(depth), np.min(depth_val), np.max(depth_val))\n",
    "    return image, depth#, depth_val"
   ]
  },
  {
   "cell_type": "code",
   "execution_count": null,
   "id": "29336b69",
   "metadata": {
    "scrolled": false
   },
   "outputs": [],
   "source": [
    "from os import listdir\n",
    "from os.path import isfile, join\n",
    "\n",
    "# See top 10\n",
    "start_num = 0\n",
    "view_num = 1\n",
    "num_photos_to_view = 25\n",
    "\n",
    "# Specify the .svo folder name\n",
    "# i.e. SVO_Folder.svo in SVO_Folder means that\n",
    "# folder_path = '../SVO_Folder'\n",
    "folder_path = '../HD2K_SN2250_06-17-58'\n",
    "\n",
    "file_names = []\n",
    "for item_name in listdir(folder_path):\n",
    "    if isfile(join(folder_path, item_name)):\n",
    "        file_names.append(join(folder_path, item_name))\n",
    "\n",
    "file_names.sort()\n",
    "\n",
    "photos_viewed = 0\n",
    "file_names_split = file_names[start_num:num_photos_to_view*view_num:view_num]\n",
    "for file_name in file_names_split:\n",
    "    if \"left\" in file_name:\n",
    "        print(f\"Showing {file_name}\")\n",
    "        images = obtainImageAndDepths(file_name)\n",
    "        displayImages(images)\n",
    "        photos_viewed += 1\n",
    "    if photos_viewed >= num_photos_to_view:\n",
    "        break"
   ]
  },
  {
   "cell_type": "code",
   "execution_count": null,
   "id": "be2c9261",
   "metadata": {},
   "outputs": [],
   "source": [
    "Error me!"
   ]
  },
  {
   "cell_type": "markdown",
   "id": "3aabac30",
   "metadata": {},
   "source": [
    "# Create trainval.txt and test.txt"
   ]
  },
  {
   "cell_type": "markdown",
   "id": "90952340",
   "metadata": {},
   "source": [
    "This subscript is used to automatically create the split 4:1 training:testing examples by populating the files `trainval.txt` and `test.txt` for a local TFDS build.\n",
    "\n",
    "This subscript assumes that the data is stored in a tree structure similar to the following:\n",
    "\n",
    "```\n",
    "data_sealed_pothole\n",
    "├── depths\n",
    "│   ├── HD2K_SN2250_06-24-40_frame-00001410-depth.png\n",
    "│   └── HD2K_SN2250_06-27-55_frame-00001215-depth.png\n",
    "├── ground\n",
    "│   ├── HD2K_SN2250_06-24-40_frame-00001410-ground.png\n",
    "│   └── HD2K_SN2250_06-27-55_frame-00001215-ground.png\n",
    "├── images\n",
    "│   ├── HD2K_SN2250_06-24-40_frame-00001410-left.png\n",
    "│   └── HD2K_SN2250_06-27-55_frame-00001215-left.png\n",
    "├── test.txt\n",
    "└── trainval.txt\n",
    "data_sealed_pothole_modified\n",
    "├── depths\n",
    "│   ├── HD2K_SN2250_06-24-40_frame-00001410-depth.png\n",
    "│   └── HD2K_SN2250_06-27-55_frame-00001215-depth.png\n",
    "├── ground\n",
    "│   ├── HD2K_SN2250_06-24-40_frame-00001410-ground.png\n",
    "│   └── HD2K_SN2250_06-27-55_frame-00001215-ground.png\n",
    "├── images\n",
    "│   ├── HD2K_SN2250_06-24-40_frame-00001410-left.png\n",
    "│   └── HD2K_SN2250_06-27-55_frame-00001215-left.png\n",
    "├── test.txt\n",
    "└── trainval.txt\n",
    "data_sealed_road\n",
    "├── depths\n",
    "│   ├── HD1080_SN2250_17-40-15_frame-00000030-depth.png\n",
    "│   └── HD2K_SN2250_06-24-40_frame-00000150-depth.png\n",
    "├── ground\n",
    "│   ├── HD1080_SN2250_17-40-15_frame-00000030-ground.png\n",
    "│   └── HD2K_SN2250_06-24-40_frame-00000150-ground.png\n",
    "├── images\n",
    "│   ├── HD1080_SN2250_17-40-15_frame-00000030-left.png\n",
    "│   └── HD2K_SN2250_06-24-40_frame-00000150-left.png\n",
    "├── test.txt\n",
    "└── trainval.txt\n",
    "data_unsealed_pothole\n",
    "├── depths\n",
    "│   ├── HD2K_SN2250_06-36-48_frame-00000090-depth.png\n",
    "│   └── HD2K_SN2250_06-45-08_frame-00000120-depth.png\n",
    "├── ground\n",
    "│   ├── HD2K_SN2250_06-36-48_frame-00000090-ground.png\n",
    "│   └── HD2K_SN2250_06-45-08_frame-00000120-ground.png\n",
    "├── images\n",
    "│   ├── HD2K_SN2250_06-36-48_frame-00000090-left.png\n",
    "│   └── HD2K_SN2250_06-45-08_frame-00000120-left.png\n",
    "├── test.txt\n",
    "└── trainval.txt\n",
    "data_unsealed_pothole_modified\n",
    "├── depths\n",
    "│   ├── HD2K_SN2250_06-36-48_frame-00000090-depth.png\n",
    "│   └── HD2K_SN2250_06-45-08_frame-00000120-depth.png\n",
    "├── ground\n",
    "│   ├── HD2K_SN2250_06-36-48_frame-00000090-ground.png\n",
    "│   └── HD2K_SN2250_06-45-08_frame-00000120-ground.png\n",
    "├── images\n",
    "│   ├── HD2K_SN2250_06-36-48_frame-00000090-left.png\n",
    "│   └── HD2K_SN2250_06-45-08_frame-00000120-left.png\n",
    "├── test.txt\n",
    "└── trainval.txt\n",
    "data_unsealed_road\n",
    "├── depths\n",
    "│   ├── HD1080_SN2250_17-30-57_frame-00000650-depth.png\n",
    "│   └── HD1080_SN2250_17-30-57_frame-00001330-depth.png\n",
    "├── ground\n",
    "│   ├── HD1080_SN2250_17-30-57_frame-00000650-ground.png\n",
    "│   └── HD1080_SN2250_17-30-57_frame-00001330-ground.png\n",
    "├── images\n",
    "│   ├── HD1080_SN2250_17-30-57_frame-00000650-left.png\n",
    "│   └── HD1080_SN2250_17-30-57_frame-00001330-left.png\n",
    "├── test.txt\n",
    "└── trainval.txt\n",
    "```"
   ]
  },
  {
   "cell_type": "code",
   "execution_count": null,
   "id": "e934efcc",
   "metadata": {},
   "outputs": [],
   "source": [
    "from os import listdir\n",
    "from os.path import isfile, join\n",
    "\n",
    "test_every = 5\n",
    "\n",
    "print(\"Which folder should trainval.txt and test.txt be created for?\")\n",
    "print(\"data_sealed_road or data_unsealed_road\")\n",
    "print(\"data_sealed_pothole or data_unsealed_pothole\")\n",
    "source_folder_path = input(\"Folder: \")\n",
    "\n",
    "folder_path = join(source_folder_path, \"images\")\n",
    "train_file_names = []\n",
    "test_file_names = []\n",
    "\n",
    "item_names = listdir(folder_path)\n",
    "item_names.sort()\n",
    "for i, item_name in enumerate(item_names):\n",
    "    if isfile(join(folder_path, item_name)):\n",
    "        if (i+1)%5 == 0:\n",
    "            test_file_names.append(item_name)\n",
    "            continue\n",
    "        train_file_names.append(item_name)\n",
    "\n",
    "train_file_names.sort()\n",
    "test_file_names.sort()\n",
    "\n",
    "trainval_file_path = join(source_folder_path, \"trainval.txt\")\n",
    "with open(trainval_file_path, 'w') as f:\n",
    "    for file_name in train_file_names:\n",
    "        train_file_name = file_name.replace('-left.png', '')\n",
    "        f.write(f\"{train_file_name} 1\\n\")\n",
    "print(f\"Finished writing to {trainval_file_path}\")\n",
    "\n",
    "test_file_path = join(source_folder_path, \"test.txt\")\n",
    "with open(test_file_path, 'w') as f:\n",
    "    for file_name in test_file_names:\n",
    "        test_file_name = file_name.replace('-left.png', '')\n",
    "        f.write(f\"{test_file_name} 1\\n\")\n",
    "print(f\"Finished writing to {test_file_path}\")\n"
   ]
  },
  {
   "cell_type": "markdown",
   "id": "f81341bb",
   "metadata": {},
   "source": [
    "# See Images in datasets"
   ]
  },
  {
   "cell_type": "markdown",
   "id": "850ecc3f",
   "metadata": {},
   "source": [
    "The following subscript is used to view the images saved into the dataset image folders."
   ]
  },
  {
   "cell_type": "code",
   "execution_count": null,
   "id": "b5ca8ca0",
   "metadata": {},
   "outputs": [],
   "source": [
    "from os import listdir\n",
    "from os.path import isfile, join\n",
    "\n",
    "import matplotlib.pyplot as plt\n",
    "import matplotlib.image as mpimg\n",
    "import numpy as np\n",
    "import random as rand"
   ]
  },
  {
   "cell_type": "code",
   "execution_count": null,
   "id": "e7b0eff6",
   "metadata": {},
   "outputs": [],
   "source": [
    "def obtainImages(image_paths=[]):\n",
    "    images = []\n",
    "    for image_path in image_paths:\n",
    "        image = mpimg.imread(image_path)\n",
    "        #image = cv2.imread(image_path)\n",
    "        images.append(image)\n",
    "        #print(f\"{image_path} np.min(image) = {np.min(image)}, np.max(image) = {np.max(image)}\")\n",
    "    return images"
   ]
  },
  {
   "cell_type": "code",
   "execution_count": null,
   "id": "30a72747",
   "metadata": {},
   "outputs": [],
   "source": [
    "print(\"Which folder's images should shown?\")\n",
    "print(\"data_sealed_road or data_unsealed_road\")\n",
    "print(\"data_sealed_pothole or data_unsealed_pothole\")\n",
    "print(\"data_sealed_pothole_modified or data_unsealed_pothole_modified\")\n",
    "source_folder_path = input(\"Folder: \")\n",
    "\n",
    "folder_path = join(source_folder_path, \"images\")\n",
    "\n",
    "item_names = listdir(folder_path)\n",
    "item_names.sort()\n",
    "\n",
    "# print(item_names)\n",
    "\n",
    "for item_name in item_names:\n",
    "    image_paths = [\n",
    "        join(join(source_folder_path, \"images\"), item_name),\n",
    "        join(join(source_folder_path, \"depths\"), item_name.replace('-left', '-depth')),\n",
    "        join(join(source_folder_path, \"ground\"), item_name.replace('-left', '-ground')),\n",
    "    ]\n",
    "#     print(image_paths)\n",
    "    images = obtainImages(image_paths)\n",
    "    displayImages(images, [\"Input Image\", \"Input Depth\", \"Input Ground\"])"
   ]
  }
 ],
 "metadata": {
  "kernelspec": {
   "display_name": "Python 3 (ipykernel)",
   "language": "python",
   "name": "python3"
  },
  "language_info": {
   "codemirror_mode": {
    "name": "ipython",
    "version": 3
   },
   "file_extension": ".py",
   "mimetype": "text/x-python",
   "name": "python",
   "nbconvert_exporter": "python",
   "pygments_lexer": "ipython3",
   "version": "3.8.10"
  }
 },
 "nbformat": 4,
 "nbformat_minor": 5
}
