{
 "cells": [
  {
   "cell_type": "markdown",
   "id": "f78e4394",
   "metadata": {},
   "source": [
    "# Moving video files into their own folders"
   ]
  },
  {
   "cell_type": "markdown",
   "id": "7bb1712d",
   "metadata": {},
   "source": [
    "The following subscript is used to create and move the .svo files into their own folders."
   ]
  },
  {
   "cell_type": "code",
   "execution_count": null,
   "id": "4f5d1c40",
   "metadata": {},
   "outputs": [],
   "source": [
    "import os\n",
    "# Folder path that contains the .svo files\n",
    "source = \"./videos\"\n",
    "# Folder path that the new folders will be created in\n",
    "# and the .svo files transfered into\n",
    "destination = \"./\""
   ]
  },
  {
   "cell_type": "code",
   "execution_count": null,
   "id": "f7c1d5a1",
   "metadata": {},
   "outputs": [],
   "source": [
    "all_files = os.listdir(source)\n",
    "for file_name in all_files:\n",
    "    # Make the folder\n",
    "    folder_name = file_name.replace('.svo', '')\n",
    "    folder_path = os.path.join(destination, folder_name)\n",
    "    try: \n",
    "        os.mkdir(folder_path) \n",
    "    except OSError as error: \n",
    "        print(error)\n",
    "        pass\n",
    "        \n",
    "    # Move the file\n",
    "    original_file_path = os.path.join(source, file_name)\n",
    "    file_path = os.path.join(folder_path, file_name)\n",
    "    os.rename(original_file_path, file_path)\n",
    "    print(f\"Moved: {original_file_path} to {file_path}\")"
   ]
  }
 ],
 "metadata": {
  "kernelspec": {
   "display_name": "Python 3 (ipykernel)",
   "language": "python",
   "name": "python3"
  },
  "language_info": {
   "codemirror_mode": {
    "name": "ipython",
    "version": 3
   },
   "file_extension": ".py",
   "mimetype": "text/x-python",
   "name": "python",
   "nbconvert_exporter": "python",
   "pygments_lexer": "ipython3",
   "version": "3.8.10"
  }
 },
 "nbformat": 4,
 "nbformat_minor": 5
}
