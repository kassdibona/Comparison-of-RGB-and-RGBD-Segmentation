{
 "cells": [
  {
   "cell_type": "markdown",
   "id": "946ec6e4",
   "metadata": {},
   "source": [
    "# Modify Pothole Examples"
   ]
  },
  {
   "cell_type": "markdown",
   "id": "ee9186e0",
   "metadata": {},
   "source": [
    "This script creates the modified pothole examples based off the original pothole datasets' examples."
   ]
  },
  {
   "cell_type": "code",
   "execution_count": null,
   "id": "31b0c303",
   "metadata": {},
   "outputs": [],
   "source": [
    "import matplotlib.pyplot as plt\n",
    "import matplotlib.image as mpimg\n",
    "import numpy as np\n",
    "import random as rand\n",
    "import cv2"
   ]
  },
  {
   "cell_type": "code",
   "execution_count": null,
   "id": "787db966",
   "metadata": {},
   "outputs": [],
   "source": [
    "default_titles = ['Input Image', 'Input Depth', 'Measured Depth Values', 'True Mask', 'Predicted Mask']\n",
    "\n",
    "def displayImagesBGR2RGB(display_list, title=default_titles):\n",
    "    plt.figure(figsize=(15, 15))\n",
    "\n",
    "    for i in range(len(display_list)):\n",
    "        ##print(type(display_list[i]))\n",
    "        ##print(f\"display - INFO: display_list[{i}].shape = {display_list[i].shape}\")\n",
    "        plt.subplot(1, len(display_list), i+1)\n",
    "        plt.title(title[i])\n",
    "        img = display_list[i]\n",
    "        plt.imshow(img[:, :, ::-1])\n",
    "        plt.axis('off')\n",
    "    plt.show()"
   ]
  },
  {
   "cell_type": "code",
   "execution_count": null,
   "id": "a66a4d37",
   "metadata": {},
   "outputs": [],
   "source": [
    "# modifyExample needs to:\n",
    "# Change all of the pixels to 0 or 1\n",
    "# Determine left most 1, determine right most 1, w = r-l\n",
    "# Determine top most 1, determine bottom most 1, h = b-t\n",
    "# Determine the center, c = (l+w/2, t+h/2)\n",
    "# Modify image such that its: (l-w/2, t-h/2) to (r+w/2, b+h/2) \n",
    "#   giving double w,h for the final image\n",
    "def modifyExample(folder_path, item_name):\n",
    "    print(f\"Running modifyExample({folder_path}, {item_name})\")\n",
    "    left_path = join(join(folder_path, \"images\"), f\"{item_name}-left.png\")\n",
    "    depth_path = join(join(folder_path, \"depths\"), f\"{item_name}-depth.png\")\n",
    "    ground_path = join(join(folder_path, \"ground\"), f\"{item_name}-ground.png\")\n",
    "    \n",
    "    left = cv2.imread(left_path.replace(\"_modified\", \"\"))\n",
    "    depth = cv2.imread(depth_path.replace(\"_modified\", \"\"))\n",
    "    ground = cv2.imread(ground_path.replace(\"_modified\", \"\"))\n",
    "    print(ground.shape)\n",
    "    #ground_single = ground[:, :, 0]\n",
    "    #print(np.where(list(np.argmin(ground[:, :, 0], axis=0))!= 0)) # Finds the 0s\n",
    "    #print(np.where(list(np.argmin(ground[:, :, 0], axis=1))!= 0)) # Finds the 0s\n",
    "    width_wise = np.argmax(ground[:, :, 1], axis=0)\n",
    "    height_wise = np.argmax(ground[:, :, 1], axis=1)\n",
    "    #print(width_wise.shape)\n",
    "    #print(height_wise.shape)\n",
    "    width_wise = np.nonzero(width_wise)\n",
    "    height_wise = np.nonzero(height_wise)\n",
    "    lw = np.min(width_wise)\n",
    "    th = np.min(height_wise)\n",
    "    rw = np.max(width_wise)\n",
    "    bh = np.max(height_wise)\n",
    "    \n",
    "    new_lw = lw-(rw-lw)\n",
    "    new_rw = rw+(rw-lw)\n",
    "    new_th = th-(bh-th)\n",
    "    new_bh = bh+(bh-th)\n",
    "    \n",
    "    new_lw = max(0, new_lw)\n",
    "    new_rw = min(ground.shape[1], new_rw)\n",
    "    new_th = max(0, new_th)\n",
    "    new_bh = min(ground.shape[0], new_bh)\n",
    "    \n",
    "    print(lw, rw, th, bh)\n",
    "    print(new_lw, new_rw, new_th, new_bh)\n",
    "    #print(lw, new_lw)\n",
    "    #print(rw, new_rw)\n",
    "    #print(th, new_th)\n",
    "    #print(bh, new_bh)\n",
    "    \n",
    "    modified_ground = ground[new_th:new_bh, new_lw:new_rw, :]\n",
    "    modified_depth = depth[new_th:new_bh, new_lw:new_rw, :]\n",
    "    modified_left = left[new_th:new_bh, new_lw:new_rw, :]\n",
    "    \n",
    "    cv2.imwrite(ground_path, modified_ground)\n",
    "    cv2.imwrite(depth_path, modified_depth)\n",
    "    cv2.imwrite(left_path, modified_left)\n",
    "    \n",
    "    # https://stackoverflow.com/questions/50963283/python-opencv-imshow-doesnt-need-convert-from-bgr-to-rgb\n",
    "    displayImagesBGR2RGB([depth, left, ground], [\"depth\", \"left\", \"ground\"])\n",
    "    displayImagesBGR2RGB([modified_depth, modified_left, modified_ground], \\\n",
    "                  [\"modified_depth\", \"modified_left\", \"modified_ground\"])\n",
    "    \n",
    "    "
   ]
  },
  {
   "cell_type": "code",
   "execution_count": null,
   "id": "1eb892ec",
   "metadata": {
    "scrolled": false
   },
   "outputs": [],
   "source": [
    "from os import listdir\n",
    "from os.path import isfile, join\n",
    "\n",
    "test_every = 5\n",
    "\n",
    "print(\"Which folder should the modified images be created for?\")\n",
    "#print(\"data_sealed_road or data_unsealed_road\")\n",
    "#print(\"data_sealed_pothole or data_unsealed_pothole\")\n",
    "print(\"data_sealed_pothole_modified or data_unsealed_pothole_modified\")\n",
    "source_folder_path = input(\"Folder: \")\n",
    "source_folder_path = f\"../{source_folder_path}\"\n",
    "\n",
    "folder_path = join(source_folder_path.replace(\"_modified\", \"\"), \"images\")\n",
    "train_file_names = []\n",
    "test_file_names = []\n",
    "\n",
    "item_names = listdir(folder_path)\n",
    "item_names.sort()\n",
    "for i, item_name in enumerate(item_names):\n",
    "    if isfile(join(folder_path, item_name)):\n",
    "        example_name = item_name.replace('-left.png', '')\n",
    "        modifyExample(source_folder_path, example_name)\n",
    "print(f\"Finished modifying {source_folder_path}\")\n",
    "\n",
    "\n"
   ]
  },
  {
   "cell_type": "code",
   "execution_count": null,
   "id": "69ab48cd",
   "metadata": {},
   "outputs": [],
   "source": []
  }
 ],
 "metadata": {
  "kernelspec": {
   "display_name": "Python 3 (ipykernel)",
   "language": "python",
   "name": "python3"
  },
  "language_info": {
   "codemirror_mode": {
    "name": "ipython",
    "version": 3
   },
   "file_extension": ".py",
   "mimetype": "text/x-python",
   "name": "python",
   "nbconvert_exporter": "python",
   "pygments_lexer": "ipython3",
   "version": "3.8.10"
  }
 },
 "nbformat": 4,
 "nbformat_minor": 5
}
